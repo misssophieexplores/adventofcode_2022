{
 "cells": [
  {
   "cell_type": "code",
   "execution_count": 20,
   "metadata": {},
   "outputs": [],
   "source": [
    "import pandas as pd"
   ]
  },
  {
   "cell_type": "code",
   "execution_count": 21,
   "metadata": {},
   "outputs": [
    {
     "data": {
      "text/html": [
       "<div>\n",
       "<style scoped>\n",
       "    .dataframe tbody tr th:only-of-type {\n",
       "        vertical-align: middle;\n",
       "    }\n",
       "\n",
       "    .dataframe tbody tr th {\n",
       "        vertical-align: top;\n",
       "    }\n",
       "\n",
       "    .dataframe thead th {\n",
       "        text-align: right;\n",
       "    }\n",
       "</style>\n",
       "<table border=\"1\" class=\"dataframe\">\n",
       "  <thead>\n",
       "    <tr style=\"text-align: right;\">\n",
       "      <th></th>\n",
       "      <th>0</th>\n",
       "    </tr>\n",
       "  </thead>\n",
       "  <tbody>\n",
       "    <tr>\n",
       "      <th>0</th>\n",
       "      <td>A Y</td>\n",
       "    </tr>\n",
       "    <tr>\n",
       "      <th>1</th>\n",
       "      <td>B X</td>\n",
       "    </tr>\n",
       "    <tr>\n",
       "      <th>2</th>\n",
       "      <td>C X</td>\n",
       "    </tr>\n",
       "    <tr>\n",
       "      <th>3</th>\n",
       "      <td>A Z</td>\n",
       "    </tr>\n",
       "    <tr>\n",
       "      <th>4</th>\n",
       "      <td>B Y</td>\n",
       "    </tr>\n",
       "  </tbody>\n",
       "</table>\n",
       "</div>"
      ],
      "text/plain": [
       "     0\n",
       "0  A Y\n",
       "1  B X\n",
       "2  C X\n",
       "3  A Z\n",
       "4  B Y"
      ]
     },
     "execution_count": 21,
     "metadata": {},
     "output_type": "execute_result"
    }
   ],
   "source": [
    "df = pd.read_csv('02_rockpaperscissor.csv', header = None)\n",
    "df.head()"
   ]
  },
  {
   "cell_type": "code",
   "execution_count": 22,
   "metadata": {},
   "outputs": [],
   "source": [
    "# opponent's moves:\n",
    "# A: Rock\n",
    "# B: Paper\n",
    "# C: Scissor\n",
    "\n",
    "\n",
    "# own moves:\n",
    "# X: Rock\n",
    "# Y: Paper\n",
    "# Z: Scissor\n",
    "\n",
    "# define rewards for own move:\n",
    "X = 1\n",
    "Y = 2\n",
    "Z = 3\n",
    "\n",
    "# define rewards for self:\n",
    "AX = 3\n",
    "AY = 6\n",
    "AZ = 0\n",
    "BX = 0\n",
    "BY = 3\n",
    "BZ = 6\n",
    "CX = 6\n",
    "CY = 0\n",
    "CZ = 3"
   ]
  },
  {
   "cell_type": "code",
   "execution_count": 48,
   "metadata": {},
   "outputs": [
    {
     "name": "stdout",
     "output_type": "stream",
     "text": [
      "13009\n"
     ]
    }
   ],
   "source": [
    "# loop through the dataframe and calculate the rewards:\n",
    "reward = 0\n",
    "for i in range(len(df)):\n",
    "\n",
    "    if 'X' in df[0][i]:\n",
    "        reward += 1\n",
    "        if 'A' in df[0][i]:\n",
    "            reward += 3\n",
    "        elif 'B' in df[0][i]:\n",
    "            reward += 0\n",
    "        elif 'C' in df[0][i]:\n",
    "            reward += 6\n",
    "\n",
    "    elif 'Y' in df[0][i]:\n",
    "        reward += 2\n",
    "        if 'A' in df[0][i]:\n",
    "            reward += 6\n",
    "        elif 'B' in df[0][i]:\n",
    "            reward += 3\n",
    "        elif 'C' in df[0][i]:\n",
    "            reward += 0\n",
    "    elif 'Z' in df[0][i]:\n",
    "        reward += 3\n",
    "        if 'A' in df[0][i]:\n",
    "            reward += 0\n",
    "        elif 'B' in df[0][i]:  \n",
    "            reward += 6\n",
    "        elif 'C' in df[0][i]:\n",
    "            reward += 3\n",
    "        \n",
    "print(reward)"
   ]
  },
  {
   "cell_type": "code",
   "execution_count": 51,
   "metadata": {},
   "outputs": [
    {
     "name": "stdout",
     "output_type": "stream",
     "text": [
      "10398\n"
     ]
    }
   ],
   "source": [
    "REWARD_LOSE = 0 # X\n",
    "REWARD_DRAW = 3 # Y\n",
    "REWARD_WIN = 6 # Z\n",
    "\n",
    "\n",
    "REWARD_ROCK = 1 # A\n",
    "REWARD_PAPER = 2 # B\n",
    "REWARD_SCISSOR = 3 # C\n",
    "\n",
    "score = 0\n",
    "for i in range(len(df)):\n",
    "    if 'A' in df[0][i]: # opponent plays Rock\n",
    "        if 'X' in df[0][i]: # lose, play Scissor\n",
    "            score += REWARD_LOSE + REWARD_SCISSOR\n",
    "        elif 'Y' in df[0][i]: # draw, play Rock\n",
    "            score += REWARD_DRAW + REWARD_ROCK\n",
    "        elif 'Z' in df[0][i]: # win, play paper\n",
    "            score += REWARD_WIN + REWARD_PAPER\n",
    "\n",
    "    elif 'B' in df[0][i]: # opponent plays Paper\n",
    "        if 'X' in df[0][i]: # lose, play rock\n",
    "            score += REWARD_LOSE + REWARD_ROCK\n",
    "        elif 'Y' in df[0][i]: # draw, play Paper\n",
    "            score +=REWARD_DRAW + REWARD_PAPER\n",
    "        elif 'Z' in df[0][i]: # win, play scissor\n",
    "            score += REWARD_WIN + REWARD_SCISSOR\n",
    "\n",
    "            \n",
    "    elif 'C' in df[0][i]: # opponent plays Scissor\n",
    "        if 'X' in df[0][i]: # lose, play paper\n",
    "            score += REWARD_LOSE + REWARD_PAPER\n",
    "        elif 'Y' in df[0][i]: # draw, play scissor\n",
    "            score += REWARD_DRAW + REWARD_SCISSOR\n",
    "        elif 'Z' in df[0][i]: # win, play rock\n",
    "            score += REWARD_WIN + REWARD_ROCK\n",
    "\n",
    "\n",
    "\n",
    "print(score)\n"
   ]
  },
  {
   "cell_type": "code",
   "execution_count": null,
   "metadata": {},
   "outputs": [],
   "source": []
  }
 ],
 "metadata": {
  "kernelspec": {
   "display_name": "Python 3",
   "language": "python",
   "name": "python3"
  },
  "language_info": {
   "codemirror_mode": {
    "name": "ipython",
    "version": 3
   },
   "file_extension": ".py",
   "mimetype": "text/x-python",
   "name": "python",
   "nbconvert_exporter": "python",
   "pygments_lexer": "ipython3",
   "version": "3.10.4"
  },
  "orig_nbformat": 4,
  "vscode": {
   "interpreter": {
    "hash": "ba159b61adb2b8427d1f1b89ba9a6c9580456f2042fef76e0b6b6a9cd5c7b3cf"
   }
  }
 },
 "nbformat": 4,
 "nbformat_minor": 2
}
